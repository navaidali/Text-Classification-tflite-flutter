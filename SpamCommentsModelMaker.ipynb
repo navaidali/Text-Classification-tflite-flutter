{
 "cells": [
  {
   "cell_type": "code",
   "execution_count": 1,
   "metadata": {
    "id": "Awq8sMaIFHJ1"
   },
   "outputs": [
    {
     "name": "stdout",
     "output_type": "stream",
     "text": [
      "Requirement already satisfied: tflite-model-maker in c:\\users\\navaid\\appdata\\roaming\\python\\python39\\site-packages (0.3.4)\n",
      "Requirement already satisfied: pillow>=7.0.0 in c:\\users\\navaid\\anaconda3\\lib\\site-packages (from tflite-model-maker) (9.2.0)\n",
      "Requirement already satisfied: sentencepiece>=0.1.91 in c:\\users\\navaid\\anaconda3\\lib\\site-packages (from tflite-model-maker) (0.1.97)\n",
      "Requirement already satisfied: librosa==0.8.1 in c:\\users\\navaid\\appdata\\roaming\\python\\python39\\site-packages (from tflite-model-maker) (0.8.1)\n",
      "Requirement already satisfied: fire>=0.3.1 in c:\\users\\navaid\\appdata\\roaming\\python\\python39\\site-packages (from tflite-model-maker) (0.5.0)\n",
      "Requirement already satisfied: tf-models-official==2.3.0 in c:\\users\\navaid\\appdata\\roaming\\python\\python39\\site-packages (from tflite-model-maker) (2.3.0)\n",
      "Requirement already satisfied: tensorflow>=2.6.0 in c:\\users\\navaid\\appdata\\roaming\\python\\python39\\site-packages (from tflite-model-maker) (2.9.3)\n",
      "Requirement already satisfied: absl-py>=0.10.0 in c:\\users\\navaid\\appdata\\roaming\\python\\python39\\site-packages (from tflite-model-maker) (1.4.0)\n",
      "Requirement already satisfied: six>=1.12.0 in c:\\users\\navaid\\anaconda3\\lib\\site-packages (from tflite-model-maker) (1.16.0)\n",
      "Requirement already satisfied: PyYAML>=5.1 in c:\\users\\navaid\\anaconda3\\lib\\site-packages (from tflite-model-maker) (6.0)\n",
      "Requirement already satisfied: tensorflow-hub<0.13,>=0.7.0 in c:\\users\\navaid\\anaconda3\\lib\\site-packages (from tflite-model-maker) (0.12.0)\n",
      "Requirement already satisfied: numba==0.53 in c:\\users\\navaid\\appdata\\roaming\\python\\python39\\site-packages (from tflite-model-maker) (0.53.0)\n",
      "Requirement already satisfied: tensorflow-datasets>=2.1.0 in c:\\users\\navaid\\appdata\\roaming\\python\\python39\\site-packages (from tflite-model-maker) (4.8.2)\n",
      "Requirement already satisfied: matplotlib<3.5.0,>=3.0.3 in c:\\users\\navaid\\appdata\\roaming\\python\\python39\\site-packages (from tflite-model-maker) (3.4.3)\n",
      "Requirement already satisfied: neural-structured-learning>=1.3.1 in c:\\users\\navaid\\appdata\\roaming\\python\\python39\\site-packages (from tflite-model-maker) (1.4.0)\n",
      "Requirement already satisfied: tensorflow-addons>=0.11.2 in c:\\users\\navaid\\appdata\\roaming\\python\\python39\\site-packages (from tflite-model-maker) (0.19.0)\n",
      "Requirement already satisfied: tflite-support>=0.3.1 in c:\\users\\navaid\\appdata\\roaming\\python\\python39\\site-packages (from tflite-model-maker) (0.4.1)\n",
      "Requirement already satisfied: Cython>=0.29.13 in c:\\users\\navaid\\anaconda3\\lib\\site-packages (from tflite-model-maker) (0.29.32)\n",
      "Requirement already satisfied: urllib3!=1.25.0,!=1.25.1,<1.26,>=1.21.1 in c:\\users\\navaid\\anaconda3\\lib\\site-packages (from tflite-model-maker) (1.25.11)\n",
      "Requirement already satisfied: lxml>=4.6.1 in c:\\users\\navaid\\anaconda3\\lib\\site-packages (from tflite-model-maker) (4.9.1)\n",
      "Requirement already satisfied: flatbuffers==1.12 in c:\\users\\navaid\\anaconda3\\lib\\site-packages (from tflite-model-maker) (1.12)\n",
      "Requirement already satisfied: numpy>=1.17.3 in c:\\users\\navaid\\anaconda3\\lib\\site-packages (from tflite-model-maker) (1.21.5)\n",
      "Requirement already satisfied: tensorflowjs>=2.4.0 in c:\\users\\navaid\\appdata\\roaming\\python\\python39\\site-packages (from tflite-model-maker) (3.18.0)\n",
      "Requirement already satisfied: tensorflow-model-optimization>=0.5 in c:\\users\\navaid\\anaconda3\\lib\\site-packages (from tflite-model-maker) (0.7.3)\n",
      "Requirement already satisfied: pooch>=1.0 in c:\\users\\navaid\\appdata\\roaming\\python\\python39\\site-packages (from librosa==0.8.1->tflite-model-maker) (1.6.0)\n",
      "Requirement already satisfied: audioread>=2.0.0 in c:\\users\\navaid\\appdata\\roaming\\python\\python39\\site-packages (from librosa==0.8.1->tflite-model-maker) (3.0.0)\n",
      "Requirement already satisfied: scipy>=1.0.0 in c:\\users\\navaid\\anaconda3\\lib\\site-packages (from librosa==0.8.1->tflite-model-maker) (1.9.1)\n",
      "Requirement already satisfied: scikit-learn!=0.19.0,>=0.14.0 in c:\\users\\navaid\\anaconda3\\lib\\site-packages (from librosa==0.8.1->tflite-model-maker) (1.0.2)\n",
      "Requirement already satisfied: soundfile>=0.10.2 in c:\\users\\navaid\\appdata\\roaming\\python\\python39\\site-packages (from librosa==0.8.1->tflite-model-maker) (0.12.1)\n",
      "Requirement already satisfied: joblib>=0.14 in c:\\users\\navaid\\anaconda3\\lib\\site-packages (from librosa==0.8.1->tflite-model-maker) (1.1.0)\n",
      "Requirement already satisfied: resampy>=0.2.2 in c:\\users\\navaid\\appdata\\roaming\\python\\python39\\site-packages (from librosa==0.8.1->tflite-model-maker) (0.4.2)\n",
      "Requirement already satisfied: decorator>=3.0.0 in c:\\users\\navaid\\anaconda3\\lib\\site-packages (from librosa==0.8.1->tflite-model-maker) (5.1.1)\n",
      "Requirement already satisfied: packaging>=20.0 in c:\\users\\navaid\\anaconda3\\lib\\site-packages (from librosa==0.8.1->tflite-model-maker) (20.9)\n",
      "Requirement already satisfied: llvmlite<0.37,>=0.36.0rc1 in c:\\users\\navaid\\appdata\\roaming\\python\\python39\\site-packages (from numba==0.53->tflite-model-maker) (0.36.0)\n",
      "Requirement already satisfied: setuptools in c:\\users\\navaid\\anaconda3\\lib\\site-packages (from numba==0.53->tflite-model-maker) (67.4.0)\n",
      "Requirement already satisfied: py-cpuinfo>=3.3.0 in c:\\users\\navaid\\anaconda3\\lib\\site-packages (from tf-models-official==2.3.0->tflite-model-maker) (9.0.0)\n",
      "Requirement already satisfied: gin-config in c:\\users\\navaid\\anaconda3\\lib\\site-packages (from tf-models-official==2.3.0->tflite-model-maker) (0.5.0)\n",
      "Requirement already satisfied: opencv-python-headless in c:\\users\\navaid\\anaconda3\\lib\\site-packages (from tf-models-official==2.3.0->tflite-model-maker) (4.7.0.72)\n",
      "Requirement already satisfied: psutil>=5.4.3 in c:\\users\\navaid\\anaconda3\\lib\\site-packages (from tf-models-official==2.3.0->tflite-model-maker) (5.9.0)\n",
      "Requirement already satisfied: google-api-python-client>=1.6.7 in c:\\users\\navaid\\appdata\\roaming\\python\\python39\\site-packages (from tf-models-official==2.3.0->tflite-model-maker) (2.79.0)\n",
      "Requirement already satisfied: tf-slim>=1.1.0 in c:\\users\\navaid\\appdata\\roaming\\python\\python39\\site-packages (from tf-models-official==2.3.0->tflite-model-maker) (1.1.0)\n",
      "Requirement already satisfied: google-cloud-bigquery>=0.31.0 in c:\\users\\navaid\\appdata\\roaming\\python\\python39\\site-packages (from tf-models-official==2.3.0->tflite-model-maker) (3.6.0)\n",
      "Requirement already satisfied: dataclasses in c:\\users\\navaid\\anaconda3\\lib\\site-packages (from tf-models-official==2.3.0->tflite-model-maker) (0.6)\n",
      "Requirement already satisfied: kaggle>=1.3.9 in c:\\users\\navaid\\appdata\\roaming\\python\\python39\\site-packages (from tf-models-official==2.3.0->tflite-model-maker) (1.5.12)\n",
      "Requirement already satisfied: pandas>=0.22.0 in c:\\users\\navaid\\anaconda3\\lib\\site-packages (from tf-models-official==2.3.0->tflite-model-maker) (1.4.4)\n",
      "Requirement already satisfied: termcolor in c:\\users\\navaid\\anaconda3\\lib\\site-packages (from fire>=0.3.1->tflite-model-maker) (2.2.0)\n",
      "Requirement already satisfied: python-dateutil>=2.7 in c:\\users\\navaid\\anaconda3\\lib\\site-packages (from matplotlib<3.5.0,>=3.0.3->tflite-model-maker) (2.8.2)\n",
      "Requirement already satisfied: pyparsing>=2.2.1 in c:\\users\\navaid\\anaconda3\\lib\\site-packages (from matplotlib<3.5.0,>=3.0.3->tflite-model-maker) (3.0.9)\n",
      "Requirement already satisfied: cycler>=0.10 in c:\\users\\navaid\\anaconda3\\lib\\site-packages (from matplotlib<3.5.0,>=3.0.3->tflite-model-maker) (0.11.0)\n",
      "Requirement already satisfied: kiwisolver>=1.0.1 in c:\\users\\navaid\\anaconda3\\lib\\site-packages (from matplotlib<3.5.0,>=3.0.3->tflite-model-maker) (1.4.2)\n",
      "Requirement already satisfied: attrs in c:\\users\\navaid\\anaconda3\\lib\\site-packages (from neural-structured-learning>=1.3.1->tflite-model-maker) (21.4.0)\n",
      "Requirement already satisfied: tensorboard<2.10,>=2.9 in c:\\users\\navaid\\appdata\\roaming\\python\\python39\\site-packages (from tensorflow>=2.6.0->tflite-model-maker) (2.9.1)\n",
      "Requirement already satisfied: grpcio<2.0,>=1.24.3 in c:\\users\\navaid\\appdata\\roaming\\python\\python39\\site-packages (from tensorflow>=2.6.0->tflite-model-maker) (1.51.3)\n",
      "Requirement already satisfied: protobuf<3.20,>=3.9.2 in c:\\users\\navaid\\anaconda3\\lib\\site-packages (from tensorflow>=2.6.0->tflite-model-maker) (3.19.6)\n",
      "Requirement already satisfied: keras<2.10.0,>=2.9.0rc0 in c:\\users\\navaid\\anaconda3\\lib\\site-packages (from tensorflow>=2.6.0->tflite-model-maker) (2.9.0)\n",
      "Requirement already satisfied: google-pasta>=0.1.1 in c:\\users\\navaid\\appdata\\roaming\\python\\python39\\site-packages (from tensorflow>=2.6.0->tflite-model-maker) (0.2.0)\n",
      "Requirement already satisfied: libclang>=13.0.0 in c:\\users\\navaid\\anaconda3\\lib\\site-packages (from tensorflow>=2.6.0->tflite-model-maker) (15.0.6.1)\n",
      "Requirement already satisfied: keras-preprocessing>=1.1.1 in c:\\users\\navaid\\appdata\\roaming\\python\\python39\\site-packages (from tensorflow>=2.6.0->tflite-model-maker) (1.1.2)\n",
      "Requirement already satisfied: wrapt>=1.11.0 in c:\\users\\navaid\\anaconda3\\lib\\site-packages (from tensorflow>=2.6.0->tflite-model-maker) (1.14.1)\n",
      "Requirement already satisfied: astunparse>=1.6.0 in c:\\users\\navaid\\appdata\\roaming\\python\\python39\\site-packages (from tensorflow>=2.6.0->tflite-model-maker) (1.6.3)\n",
      "Requirement already satisfied: tensorflow-estimator<2.10.0,>=2.9.0rc0 in c:\\users\\navaid\\anaconda3\\lib\\site-packages (from tensorflow>=2.6.0->tflite-model-maker) (2.9.0)\n",
      "Requirement already satisfied: h5py>=2.9.0 in c:\\users\\navaid\\anaconda3\\lib\\site-packages (from tensorflow>=2.6.0->tflite-model-maker) (3.7.0)\n",
      "Requirement already satisfied: gast<=0.4.0,>=0.2.1 in c:\\users\\navaid\\appdata\\roaming\\python\\python39\\site-packages (from tensorflow>=2.6.0->tflite-model-maker) (0.4.0)\n",
      "Requirement already satisfied: opt-einsum>=2.3.2 in c:\\users\\navaid\\anaconda3\\lib\\site-packages (from tensorflow>=2.6.0->tflite-model-maker) (3.3.0)\n",
      "Requirement already satisfied: tensorflow-io-gcs-filesystem>=0.23.1 in c:\\users\\navaid\\anaconda3\\lib\\site-packages (from tensorflow>=2.6.0->tflite-model-maker) (0.31.0)\n",
      "Requirement already satisfied: typing-extensions>=3.6.6 in c:\\users\\navaid\\anaconda3\\lib\\site-packages (from tensorflow>=2.6.0->tflite-model-maker) (4.3.0)\n",
      "Requirement already satisfied: typeguard>=2.7 in c:\\users\\navaid\\anaconda3\\lib\\site-packages (from tensorflow-addons>=0.11.2->tflite-model-maker) (2.13.3)\n",
      "Requirement already satisfied: requests>=2.19.0 in c:\\users\\navaid\\anaconda3\\lib\\site-packages (from tensorflow-datasets>=2.1.0->tflite-model-maker) (2.28.1)\n",
      "Requirement already satisfied: tqdm in c:\\users\\navaid\\anaconda3\\lib\\site-packages (from tensorflow-datasets>=2.1.0->tflite-model-maker) (4.64.1)\n",
      "Requirement already satisfied: promise in c:\\users\\navaid\\anaconda3\\lib\\site-packages (from tensorflow-datasets>=2.1.0->tflite-model-maker) (2.3)\n",
      "Requirement already satisfied: toml in c:\\users\\navaid\\anaconda3\\lib\\site-packages (from tensorflow-datasets>=2.1.0->tflite-model-maker) (0.10.2)\n",
      "Requirement already satisfied: dm-tree in c:\\users\\navaid\\anaconda3\\lib\\site-packages (from tensorflow-datasets>=2.1.0->tflite-model-maker) (0.1.8)\n",
      "Requirement already satisfied: click in c:\\users\\navaid\\anaconda3\\lib\\site-packages (from tensorflow-datasets>=2.1.0->tflite-model-maker) (8.0.4)\n",
      "Requirement already satisfied: etils[enp,epath]>=0.9.0 in c:\\users\\navaid\\appdata\\roaming\\python\\python39\\site-packages (from tensorflow-datasets>=2.1.0->tflite-model-maker) (1.0.0)\n",
      "Requirement already satisfied: dill in c:\\users\\navaid\\anaconda3\\lib\\site-packages (from tensorflow-datasets>=2.1.0->tflite-model-maker) (0.3.4)\n",
      "Requirement already satisfied: tensorflow-metadata in c:\\users\\navaid\\appdata\\roaming\\python\\python39\\site-packages (from tensorflow-datasets>=2.1.0->tflite-model-maker) (1.12.0)\n",
      "Requirement already satisfied: pybind11>=2.6.0 in c:\\users\\navaid\\anaconda3\\lib\\site-packages (from tflite-support>=0.3.1->tflite-model-maker) (2.10.3)\n",
      "Requirement already satisfied: sounddevice>=0.4.4 in c:\\users\\navaid\\appdata\\roaming\\python\\python39\\site-packages (from tflite-support>=0.3.1->tflite-model-maker) (0.4.6)\n",
      "Requirement already satisfied: wheel<1.0,>=0.23.0 in c:\\users\\navaid\\anaconda3\\lib\\site-packages (from astunparse>=1.6.0->tensorflow>=2.6.0->tflite-model-maker) (0.37.1)\n",
      "Requirement already satisfied: zipp in c:\\users\\navaid\\anaconda3\\lib\\site-packages (from etils[enp,epath]>=0.9.0->tensorflow-datasets>=2.1.0->tflite-model-maker) (3.8.0)\n",
      "Requirement already satisfied: importlib_resources in c:\\users\\navaid\\appdata\\roaming\\python\\python39\\site-packages (from etils[enp,epath]>=0.9.0->tensorflow-datasets>=2.1.0->tflite-model-maker) (5.12.0)\n",
      "Requirement already satisfied: httplib2<1dev,>=0.15.0 in c:\\users\\navaid\\appdata\\roaming\\python\\python39\\site-packages (from google-api-python-client>=1.6.7->tf-models-official==2.3.0->tflite-model-maker) (0.21.0)\n",
      "Requirement already satisfied: google-api-core!=2.0.*,!=2.1.*,!=2.2.*,!=2.3.0,<3.0.0dev,>=1.31.5 in c:\\users\\navaid\\appdata\\roaming\\python\\python39\\site-packages (from google-api-python-client>=1.6.7->tf-models-official==2.3.0->tflite-model-maker) (2.11.0)\n",
      "Requirement already satisfied: uritemplate<5,>=3.0.1 in c:\\users\\navaid\\anaconda3\\lib\\site-packages (from google-api-python-client>=1.6.7->tf-models-official==2.3.0->tflite-model-maker) (4.1.1)\n",
      "Requirement already satisfied: google-auth-httplib2>=0.1.0 in c:\\users\\navaid\\appdata\\roaming\\python\\python39\\site-packages (from google-api-python-client>=1.6.7->tf-models-official==2.3.0->tflite-model-maker) (0.1.0)\n",
      "Requirement already satisfied: google-auth<3.0.0dev,>=1.19.0 in c:\\users\\navaid\\appdata\\roaming\\python\\python39\\site-packages (from google-api-python-client>=1.6.7->tf-models-official==2.3.0->tflite-model-maker) (2.16.1)\n",
      "Requirement already satisfied: google-cloud-core<3.0.0dev,>=1.6.0 in c:\\users\\navaid\\appdata\\roaming\\python\\python39\\site-packages (from google-cloud-bigquery>=0.31.0->tf-models-official==2.3.0->tflite-model-maker) (2.3.2)\n",
      "Requirement already satisfied: proto-plus<2.0.0dev,>=1.15.0 in c:\\users\\navaid\\anaconda3\\lib\\site-packages (from google-cloud-bigquery>=0.31.0->tf-models-official==2.3.0->tflite-model-maker) (1.22.2)\n",
      "Requirement already satisfied: google-resumable-media<3.0dev,>=0.6.0 in c:\\users\\navaid\\appdata\\roaming\\python\\python39\\site-packages (from google-cloud-bigquery>=0.31.0->tf-models-official==2.3.0->tflite-model-maker) (2.4.1)\n",
      "Requirement already satisfied: python-slugify in c:\\users\\navaid\\anaconda3\\lib\\site-packages (from kaggle>=1.3.9->tf-models-official==2.3.0->tflite-model-maker) (5.0.2)\n",
      "Requirement already satisfied: certifi in c:\\users\\navaid\\anaconda3\\lib\\site-packages (from kaggle>=1.3.9->tf-models-official==2.3.0->tflite-model-maker) (2022.9.14)\n",
      "Requirement already satisfied: pytz>=2020.1 in c:\\users\\navaid\\anaconda3\\lib\\site-packages (from pandas>=0.22.0->tf-models-official==2.3.0->tflite-model-maker) (2022.1)\n",
      "Requirement already satisfied: appdirs>=1.3.0 in c:\\users\\navaid\\anaconda3\\lib\\site-packages (from pooch>=1.0->librosa==0.8.1->tflite-model-maker) (1.4.4)\n",
      "Requirement already satisfied: idna<4,>=2.5 in c:\\users\\navaid\\anaconda3\\lib\\site-packages (from requests>=2.19.0->tensorflow-datasets>=2.1.0->tflite-model-maker) (3.3)\n",
      "Requirement already satisfied: charset-normalizer<3,>=2 in c:\\users\\navaid\\anaconda3\\lib\\site-packages (from requests>=2.19.0->tensorflow-datasets>=2.1.0->tflite-model-maker) (2.0.4)\n",
      "Requirement already satisfied: threadpoolctl>=2.0.0 in c:\\users\\navaid\\anaconda3\\lib\\site-packages (from scikit-learn!=0.19.0,>=0.14.0->librosa==0.8.1->tflite-model-maker) (2.2.0)\n",
      "Requirement already satisfied: CFFI>=1.0 in c:\\users\\navaid\\anaconda3\\lib\\site-packages (from sounddevice>=0.4.4->tflite-support>=0.3.1->tflite-model-maker) (1.15.1)\n",
      "Requirement already satisfied: google-auth-oauthlib<0.5,>=0.4.1 in c:\\users\\navaid\\appdata\\roaming\\python\\python39\\site-packages (from tensorboard<2.10,>=2.9->tensorflow>=2.6.0->tflite-model-maker) (0.4.6)\n",
      "Requirement already satisfied: tensorboard-data-server<0.7.0,>=0.6.0 in c:\\users\\navaid\\anaconda3\\lib\\site-packages (from tensorboard<2.10,>=2.9->tensorflow>=2.6.0->tflite-model-maker) (0.6.1)\n",
      "Requirement already satisfied: werkzeug>=1.0.1 in c:\\users\\navaid\\anaconda3\\lib\\site-packages (from tensorboard<2.10,>=2.9->tensorflow>=2.6.0->tflite-model-maker) (2.0.3)\n",
      "Requirement already satisfied: tensorboard-plugin-wit>=1.6.0 in c:\\users\\navaid\\anaconda3\\lib\\site-packages (from tensorboard<2.10,>=2.9->tensorflow>=2.6.0->tflite-model-maker) (1.8.1)\n",
      "Requirement already satisfied: markdown>=2.6.8 in c:\\users\\navaid\\anaconda3\\lib\\site-packages (from tensorboard<2.10,>=2.9->tensorflow>=2.6.0->tflite-model-maker) (3.3.4)\n",
      "Requirement already satisfied: colorama in c:\\users\\navaid\\anaconda3\\lib\\site-packages (from click->tensorflow-datasets>=2.1.0->tflite-model-maker) (0.4.5)\n",
      "Requirement already satisfied: googleapis-common-protos<2,>=1.52.0 in c:\\users\\navaid\\appdata\\roaming\\python\\python39\\site-packages (from tensorflow-metadata->tensorflow-datasets>=2.1.0->tflite-model-maker) (1.58.0)\n",
      "Requirement already satisfied: pycparser in c:\\users\\navaid\\anaconda3\\lib\\site-packages (from CFFI>=1.0->sounddevice>=0.4.4->tflite-support>=0.3.1->tflite-model-maker) (2.21)\n",
      "Requirement already satisfied: grpcio-status<2.0dev,>=1.33.2 in c:\\users\\navaid\\appdata\\roaming\\python\\python39\\site-packages (from google-api-core!=2.0.*,!=2.1.*,!=2.2.*,!=2.3.0,<3.0.0dev,>=1.31.5->google-api-python-client>=1.6.7->tf-models-official==2.3.0->tflite-model-maker) (1.48.2)\n",
      "Requirement already satisfied: rsa<5,>=3.1.4 in c:\\users\\navaid\\anaconda3\\lib\\site-packages (from google-auth<3.0.0dev,>=1.19.0->google-api-python-client>=1.6.7->tf-models-official==2.3.0->tflite-model-maker) (4.9)\n",
      "Requirement already satisfied: cachetools<6.0,>=2.0.0 in c:\\users\\navaid\\appdata\\roaming\\python\\python39\\site-packages (from google-auth<3.0.0dev,>=1.19.0->google-api-python-client>=1.6.7->tf-models-official==2.3.0->tflite-model-maker) (5.3.0)\n",
      "Requirement already satisfied: pyasn1-modules>=0.2.1 in c:\\users\\navaid\\anaconda3\\lib\\site-packages (from google-auth<3.0.0dev,>=1.19.0->google-api-python-client>=1.6.7->tf-models-official==2.3.0->tflite-model-maker) (0.2.8)\n",
      "Requirement already satisfied: requests-oauthlib>=0.7.0 in c:\\users\\navaid\\appdata\\roaming\\python\\python39\\site-packages (from google-auth-oauthlib<0.5,>=0.4.1->tensorboard<2.10,>=2.9->tensorflow>=2.6.0->tflite-model-maker) (1.3.1)\n",
      "Requirement already satisfied: google-crc32c<2.0dev,>=1.0 in c:\\users\\navaid\\appdata\\roaming\\python\\python39\\site-packages (from google-resumable-media<3.0dev,>=0.6.0->google-cloud-bigquery>=0.31.0->tf-models-official==2.3.0->tflite-model-maker) (1.5.0)\n",
      "Requirement already satisfied: text-unidecode>=1.3 in c:\\users\\navaid\\anaconda3\\lib\\site-packages (from python-slugify->kaggle>=1.3.9->tf-models-official==2.3.0->tflite-model-maker) (1.3)\n",
      "Requirement already satisfied: pyasn1<0.5.0,>=0.4.6 in c:\\users\\navaid\\anaconda3\\lib\\site-packages (from pyasn1-modules>=0.2.1->google-auth<3.0.0dev,>=1.19.0->google-api-python-client>=1.6.7->tf-models-official==2.3.0->tflite-model-maker) (0.4.8)\n",
      "Requirement already satisfied: oauthlib>=3.0.0 in c:\\users\\navaid\\anaconda3\\lib\\site-packages (from requests-oauthlib>=0.7.0->google-auth-oauthlib<0.5,>=0.4.1->tensorboard<2.10,>=2.9->tensorflow>=2.6.0->tflite-model-maker) (3.2.2)\n"
     ]
    }
   ],
   "source": [
    "# Install Model maker\n",
    "!pip install tflite-model-maker"
   ]
  },
  {
   "cell_type": "code",
   "execution_count": 3,
   "metadata": {
    "colab": {
     "base_uri": "https://localhost:8080/"
    },
    "id": "2fEAqoLLF6O9",
    "outputId": "fb636f0f-f052-4e31-f18f-983d5c322ca2"
   },
   "outputs": [],
   "source": [
    "# Imports and check that we are using TF2.x\n",
    "import numpy as np\n",
    "import os\n",
    "import pandas as pd\n",
    "\n",
    "from tflite_model_maker import configs\n",
    "from tflite_model_maker import ExportFormat\n",
    "from tflite_model_maker import model_spec\n",
    "from tflite_model_maker import text_classifier\n",
    "from tflite_model_maker.text_classifier import DataLoader\n",
    "\n",
    "import tensorflow as tf\n",
    "assert tf.__version__.startswith('2')\n",
    "tf.get_logger().setLevel('ERROR')"
   ]
  },
  {
   "cell_type": "code",
   "execution_count": 25,
   "metadata": {
    "colab": {
     "base_uri": "https://localhost:8080/",
     "height": 484
    },
    "id": "lsuDZvjgREsS",
    "outputId": "e606fc39-6008-40e1-f4f9-03fe82fa8c6f"
   },
   "outputs": [],
   "source": [
    "# Download the dataset as a CSV and store as data_file\n",
    "import os\n",
    "data_file = os.path.abspath('spam_dataset.csv')"
   ]
  },
  {
   "cell_type": "code",
   "execution_count": 24,
   "metadata": {
    "id": "0-pfiLnRDpL7"
   },
   "outputs": [
    {
     "ename": "AttributeError",
     "evalue": "'str' object has no attribute 'head'",
     "output_type": "error",
     "traceback": [
      "\u001b[1;31m---------------------------------------------------------------------------\u001b[0m",
      "\u001b[1;31mAttributeError\u001b[0m                            Traceback (most recent call last)",
      "\u001b[1;32m~\\AppData\\Local\\Temp\\ipykernel_3024\\3617021644.py\u001b[0m in \u001b[0;36m<module>\u001b[1;34m\u001b[0m\n\u001b[1;32m----> 1\u001b[1;33m \u001b[0mdata_file\u001b[0m\u001b[1;33m.\u001b[0m\u001b[0mhead\u001b[0m\u001b[1;33m(\u001b[0m\u001b[1;33m)\u001b[0m\u001b[1;33m\u001b[0m\u001b[1;33m\u001b[0m\u001b[0m\n\u001b[0m",
      "\u001b[1;31mAttributeError\u001b[0m: 'str' object has no attribute 'head'"
     ]
    }
   ],
   "source": [
    "data_file.head()"
   ]
  },
  {
   "cell_type": "code",
   "execution_count": 26,
   "metadata": {
    "id": "pbew43TbG9HQ"
   },
   "outputs": [],
   "source": [
    "# Use a model spec from model maker. Options are 'mobilebert_classifier', 'bert_classifier' and 'average_word_vec'\n",
    "# The first 2 use the BERT model, which is accurate, but larger and slower to train\n",
    "# Average Word Vec is kinda like transfer learning where there are pre-trained word weights\n",
    "# and dictionaries\n",
    "spec = model_spec.get('average_word_vec')\n",
    "spec.num_words = 2000\n",
    "spec.seq_len = 20\n",
    "spec.wordvec_dim = 7"
   ]
  },
  {
   "cell_type": "code",
   "execution_count": 29,
   "metadata": {
    "colab": {
     "base_uri": "https://localhost:8080/",
     "height": 235
    },
    "id": "-WdQmzTKHFVn",
    "outputId": "861febca-c161-4cfd-cf26-6057892bf6e8"
   },
   "outputs": [],
   "source": [
    "# Load the CSV using DataLoader.from_csv to make the training_data\n",
    "data = DataLoader.from_csv(\n",
    "      filename=data_file,\n",
    "      text_column='text', \n",
    "      label_column='label', \n",
    "      model_spec=spec,\n",
    "      delimiter=',',\n",
    "      shuffle=True,\n",
    "      is_training=True)\n",
    "\n",
    "train_data, test_data = data.split(0.9)"
   ]
  },
  {
   "cell_type": "code",
   "execution_count": 30,
   "metadata": {
    "id": "qThBoIIyG_Du"
   },
   "outputs": [
    {
     "name": "stdout",
     "output_type": "stream",
     "text": [
      "145/145 [==============================] - 2s 7ms/step - loss: 0.5896 - accuracy: 0.7114 - val_loss: 0.5003 - val_accuracy: 0.7124\n",
      "Epoch 2/2\n",
      "145/145 [==============================] - 1s 5ms/step - loss: 0.4054 - accuracy: 0.8280 - val_loss: 0.3264 - val_accuracy: 0.8822\n",
      "Epoch 3/3\n",
      "145/145 [==============================] - 1s 5ms/step - loss: 0.2698 - accuracy: 0.9134 - val_loss: 0.2194 - val_accuracy: 0.9228\n",
      "Epoch 4/4\n",
      "145/145 [==============================] - 1s 4ms/step - loss: 0.1943 - accuracy: 0.9325 - val_loss: 0.1670 - val_accuracy: 0.9402\n",
      "Epoch 5/5\n",
      "145/145 [==============================] - 1s 5ms/step - loss: 0.1555 - accuracy: 0.9386 - val_loss: 0.1393 - val_accuracy: 0.9556\n",
      "Epoch 6/6\n",
      "145/145 [==============================] - 1s 5ms/step - loss: 0.1319 - accuracy: 0.9472 - val_loss: 0.1206 - val_accuracy: 0.9556\n",
      "Epoch 7/7\n",
      "145/145 [==============================] - 1s 5ms/step - loss: 0.1168 - accuracy: 0.9517 - val_loss: 0.1080 - val_accuracy: 0.9595\n",
      "Epoch 8/8\n",
      "145/145 [==============================] - 1s 5ms/step - loss: 0.1001 - accuracy: 0.9647 - val_loss: 0.0985 - val_accuracy: 0.9614\n",
      "Epoch 9/9\n",
      "145/145 [==============================] - 1s 5ms/step - loss: 0.0919 - accuracy: 0.9659 - val_loss: 0.0914 - val_accuracy: 0.9633\n",
      "Epoch 10/10\n",
      "145/145 [==============================] - 1s 4ms/step - loss: 0.0823 - accuracy: 0.9713 - val_loss: 0.0870 - val_accuracy: 0.9633\n",
      "Epoch 11/11\n",
      "145/145 [==============================] - 1s 5ms/step - loss: 0.0751 - accuracy: 0.9750 - val_loss: 0.0835 - val_accuracy: 0.9672\n",
      "Epoch 12/12\n",
      "145/145 [==============================] - 1s 4ms/step - loss: 0.0744 - accuracy: 0.9748 - val_loss: 0.0810 - val_accuracy: 0.9672\n",
      "Epoch 13/13\n",
      "145/145 [==============================] - 1s 5ms/step - loss: 0.0703 - accuracy: 0.9774 - val_loss: 0.0779 - val_accuracy: 0.9672\n",
      "Epoch 14/14\n",
      "145/145 [==============================] - 1s 4ms/step - loss: 0.0629 - accuracy: 0.9780 - val_loss: 0.0758 - val_accuracy: 0.9653\n",
      "Epoch 15/15\n",
      "145/145 [==============================] - 1s 5ms/step - loss: 0.0573 - accuracy: 0.9804 - val_loss: 0.0750 - val_accuracy: 0.9633\n",
      "Epoch 16/16\n",
      "145/145 [==============================] - 1s 5ms/step - loss: 0.0572 - accuracy: 0.9819 - val_loss: 0.0747 - val_accuracy: 0.9633\n",
      "Epoch 17/17\n",
      "145/145 [==============================] - 1s 4ms/step - loss: 0.0535 - accuracy: 0.9834 - val_loss: 0.0744 - val_accuracy: 0.9672\n",
      "Epoch 18/18\n",
      "145/145 [==============================] - 1s 4ms/step - loss: 0.0534 - accuracy: 0.9823 - val_loss: 0.0749 - val_accuracy: 0.9672\n",
      "Epoch 19/19\n",
      "145/145 [==============================] - 1s 5ms/step - loss: 0.0463 - accuracy: 0.9851 - val_loss: 0.0763 - val_accuracy: 0.9710\n",
      "Epoch 20/20\n",
      "145/145 [==============================] - 1s 5ms/step - loss: 0.0485 - accuracy: 0.9858 - val_loss: 0.0772 - val_accuracy: 0.9710\n",
      "Epoch 21/21\n",
      "145/145 [==============================] - 1s 5ms/step - loss: 0.0457 - accuracy: 0.9869 - val_loss: 0.0775 - val_accuracy: 0.9730\n",
      "Epoch 22/22\n",
      "145/145 [==============================] - 1s 6ms/step - loss: 0.0465 - accuracy: 0.9866 - val_loss: 0.0782 - val_accuracy: 0.9710\n",
      "Epoch 23/23\n",
      "145/145 [==============================] - 1s 6ms/step - loss: 0.0419 - accuracy: 0.9892 - val_loss: 0.0797 - val_accuracy: 0.9691\n",
      "Epoch 24/24\n",
      "145/145 [==============================] - 1s 5ms/step - loss: 0.0412 - accuracy: 0.9892 - val_loss: 0.0820 - val_accuracy: 0.9691\n",
      "Epoch 25/25\n",
      "145/145 [==============================] - 1s 6ms/step - loss: 0.0394 - accuracy: 0.9894 - val_loss: 0.0835 - val_accuracy: 0.9672\n",
      "Epoch 26/26\n",
      "145/145 [==============================] - 1s 6ms/step - loss: 0.0396 - accuracy: 0.9884 - val_loss: 0.0857 - val_accuracy: 0.9672\n",
      "Epoch 27/27\n",
      "145/145 [==============================] - 1s 5ms/step - loss: 0.0368 - accuracy: 0.9899 - val_loss: 0.0867 - val_accuracy: 0.9672\n",
      "Epoch 28/28\n",
      "145/145 [==============================] - 1s 5ms/step - loss: 0.0384 - accuracy: 0.9884 - val_loss: 0.0880 - val_accuracy: 0.9672\n",
      "Epoch 29/29\n",
      "145/145 [==============================] - 1s 4ms/step - loss: 0.0322 - accuracy: 0.9901 - val_loss: 0.0914 - val_accuracy: 0.9691\n",
      "Epoch 30/30\n",
      "145/145 [==============================] - 1s 4ms/step - loss: 0.0353 - accuracy: 0.9907 - val_loss: 0.0930 - val_accuracy: 0.9691\n",
      "Epoch 31/31\n",
      "145/145 [==============================] - 1s 4ms/step - loss: 0.0349 - accuracy: 0.9907 - val_loss: 0.0957 - val_accuracy: 0.9691\n",
      "Epoch 32/32\n",
      "145/145 [==============================] - 1s 5ms/step - loss: 0.0316 - accuracy: 0.9931 - val_loss: 0.0972 - val_accuracy: 0.9691\n",
      "Epoch 33/33\n",
      "145/145 [==============================] - 1s 5ms/step - loss: 0.0300 - accuracy: 0.9905 - val_loss: 0.0994 - val_accuracy: 0.9691\n",
      "Epoch 34/34\n",
      "145/145 [==============================] - 1s 6ms/step - loss: 0.0324 - accuracy: 0.9925 - val_loss: 0.1007 - val_accuracy: 0.9691\n",
      "Epoch 35/35\n",
      "145/145 [==============================] - 1s 5ms/step - loss: 0.0318 - accuracy: 0.9907 - val_loss: 0.1041 - val_accuracy: 0.9691\n",
      "Epoch 36/36\n",
      "145/145 [==============================] - 1s 5ms/step - loss: 0.0313 - accuracy: 0.9929 - val_loss: 0.1052 - val_accuracy: 0.9691\n",
      "Epoch 37/37\n",
      "145/145 [==============================] - 1s 4ms/step - loss: 0.0298 - accuracy: 0.9931 - val_loss: 0.1086 - val_accuracy: 0.9691\n",
      "Epoch 38/38\n",
      "145/145 [==============================] - 1s 5ms/step - loss: 0.0313 - accuracy: 0.9920 - val_loss: 0.1103 - val_accuracy: 0.9710\n",
      "Epoch 39/39\n",
      "145/145 [==============================] - 1s 5ms/step - loss: 0.0311 - accuracy: 0.9918 - val_loss: 0.1128 - val_accuracy: 0.9710\n",
      "Epoch 40/40\n",
      "145/145 [==============================] - 1s 6ms/step - loss: 0.0312 - accuracy: 0.9935 - val_loss: 0.1144 - val_accuracy: 0.9710\n",
      "Epoch 41/41\n",
      "145/145 [==============================] - 1s 5ms/step - loss: 0.0247 - accuracy: 0.9940 - val_loss: 0.1179 - val_accuracy: 0.9710\n",
      "Epoch 42/42\n",
      "145/145 [==============================] - 1s 5ms/step - loss: 0.0283 - accuracy: 0.9925 - val_loss: 0.1184 - val_accuracy: 0.9710\n",
      "Epoch 43/43\n",
      "145/145 [==============================] - 1s 5ms/step - loss: 0.0267 - accuracy: 0.9940 - val_loss: 0.1202 - val_accuracy: 0.9710\n",
      "Epoch 44/44\n",
      "145/145 [==============================] - 1s 5ms/step - loss: 0.0268 - accuracy: 0.9940 - val_loss: 0.1234 - val_accuracy: 0.9710\n",
      "Epoch 45/45\n",
      "145/145 [==============================] - 1s 5ms/step - loss: 0.0283 - accuracy: 0.9935 - val_loss: 0.1264 - val_accuracy: 0.9710\n",
      "Epoch 46/46\n",
      "145/145 [==============================] - 1s 5ms/step - loss: 0.0262 - accuracy: 0.9942 - val_loss: 0.1285 - val_accuracy: 0.9710\n",
      "Epoch 47/47\n",
      "145/145 [==============================] - 1s 6ms/step - loss: 0.0275 - accuracy: 0.9950 - val_loss: 0.1299 - val_accuracy: 0.9710\n",
      "Epoch 48/48\n",
      "145/145 [==============================] - 1s 5ms/step - loss: 0.0277 - accuracy: 0.9950 - val_loss: 0.1312 - val_accuracy: 0.9710\n",
      "Epoch 49/49\n",
      "145/145 [==============================] - 1s 5ms/step - loss: 0.0248 - accuracy: 0.9953 - val_loss: 0.1343 - val_accuracy: 0.9710\n",
      "Epoch 50/50\n",
      "145/145 [==============================] - 1s 5ms/step - loss: 0.0269 - accuracy: 0.9950 - val_loss: 0.1361 - val_accuracy: 0.9710\n"
     ]
    }
   ],
   "source": [
    "# Build the model\n",
    "model = text_classifier.create(train_data, model_spec=spec, epochs=50, validation_data=test_data)"
   ]
  },
  {
   "cell_type": "code",
   "execution_count": 31,
   "metadata": {
    "id": "5QXEwKYxdPzs"
   },
   "outputs": [
    {
     "name": "stdout",
     "output_type": "stream",
     "text": [
      "146/146 [==============================] - 0s 2ms/step - loss: 0.0215 - accuracy: 0.9959\n"
     ]
    }
   ],
   "source": [
    "loss, accuracy = model.evaluate(train_data)"
   ]
  },
  {
   "cell_type": "code",
   "execution_count": 32,
   "metadata": {
    "id": "In-1-rzW-_9b"
   },
   "outputs": [],
   "source": [
    "# This will export to TFLite format with the model only. \n",
    "# if you see a .json file in this directory, it is NOT the JSON model for TFJS\n",
    "# See below for how to generate that.\n",
    "# Please note that if you run this cell to create the tflite model then the \n",
    "# export to TFJS will fail. You'll need to rerun the model training first\n",
    "model.export(export_dir='/mm_spam')\n",
    "# If you want the labels and the vocab, for example for iOS, you can use this\n",
    "model.export(export_dir='/mm_spam/', export_format=[ExportFormat.LABEL, ExportFormat.VOCAB])\n",
    "\n",
    "# You can find your files in colab by clicking the 'folder' tab to the left of\n",
    "# this code window, and then navigating 'up' a directory to find the root\n",
    "# directory listing -- and from there you should see /mm_spam/"
   ]
  },
  {
   "cell_type": "code",
   "execution_count": 33,
   "metadata": {
    "id": "sW5vfrLHTDM8"
   },
   "outputs": [],
   "source": [
    "# Use this section for export to TFJS\n",
    "# Please note that if you run the above cell to create the tflite model then the \n",
    "# export to TFJS will fail. You'll need to rerun the model training first\n",
    "model.export(export_dir=\"/mm_js/\", export_format=[ExportFormat.TFJS, ExportFormat.LABEL, ExportFormat.VOCAB])"
   ]
  },
  {
   "cell_type": "code",
   "execution_count": 37,
   "metadata": {},
   "outputs": [
    {
     "ename": "AttributeError",
     "evalue": "'TextClassifier' object has no attribute 'get_output_details'",
     "output_type": "error",
     "traceback": [
      "\u001b[1;31m---------------------------------------------------------------------------\u001b[0m",
      "\u001b[1;31mAttributeError\u001b[0m                            Traceback (most recent call last)",
      "\u001b[1;32m~\\AppData\\Local\\Temp\\ipykernel_3024\\6378272.py\u001b[0m in \u001b[0;36m<module>\u001b[1;34m\u001b[0m\n\u001b[1;32m----> 1\u001b[1;33m \u001b[0mmodel\u001b[0m\u001b[1;33m.\u001b[0m\u001b[0mget_output_details\u001b[0m\u001b[1;33m(\u001b[0m\u001b[1;33m)\u001b[0m\u001b[1;33m\u001b[0m\u001b[1;33m\u001b[0m\u001b[0m\n\u001b[0m",
      "\u001b[1;31mAttributeError\u001b[0m: 'TextClassifier' object has no attribute 'get_output_details'"
     ]
    }
   ],
   "source": []
  },
  {
   "cell_type": "code",
   "execution_count": 34,
   "metadata": {
    "id": "3UNNrCWbKbxh"
   },
   "outputs": [],
   "source": [
    "# Optional extra\n",
    "# You can use this cell to export details for projector.tensorflow.org\n",
    "# Where you can explore the embeddings that were learned for this dataset\n",
    "embeddings = model.model.layers[0]\n",
    "weights = embeddings.get_weights()[0]\n",
    "tokenizer = model.model_spec.vocab\n",
    "\n",
    "import io\n",
    "\n",
    "out_v = io.open('vecs.tsv', 'w', encoding='utf-8')\n",
    "out_m = io.open('meta.tsv', 'w', encoding='utf-8')\n",
    "for word in tokenizer:\n",
    "  #word = tokenizer.decode([word_num])\n",
    "  value = tokenizer[word]\n",
    "  embeddings = weights[value]\n",
    "  out_m.write(word + \"\\n\")\n",
    "  out_v.write('\\t'.join([str(x) for x in embeddings]) + \"\\n\")\n",
    "out_v.close()\n",
    "out_m.close()\n",
    "\n",
    "\n",
    "try:\n",
    "  from google.colab import files\n",
    "except ImportError:\n",
    "  pass\n",
    "else:\n",
    "  files.download('vecs.tsv')\n",
    "  files.download('meta.tsv')"
   ]
  },
  {
   "cell_type": "code",
   "execution_count": 35,
   "metadata": {},
   "outputs": [
    {
     "ename": "NameError",
     "evalue": "name 'get_input_details' is not defined",
     "output_type": "error",
     "traceback": [
      "\u001b[1;31m---------------------------------------------------------------------------\u001b[0m",
      "\u001b[1;31mNameError\u001b[0m                                 Traceback (most recent call last)",
      "\u001b[1;32m~\\AppData\\Local\\Temp\\ipykernel_3024\\3420088608.py\u001b[0m in \u001b[0;36m<module>\u001b[1;34m\u001b[0m\n\u001b[1;32m----> 1\u001b[1;33m \u001b[0mget_input_details\u001b[0m\u001b[1;33m(\u001b[0m\u001b[1;33m)\u001b[0m\u001b[1;33m\u001b[0m\u001b[1;33m\u001b[0m\u001b[0m\n\u001b[0m",
      "\u001b[1;31mNameError\u001b[0m: name 'get_input_details' is not defined"
     ]
    }
   ],
   "source": [
    "get_input_details()"
   ]
  },
  {
   "cell_type": "code",
   "execution_count": null,
   "metadata": {},
   "outputs": [],
   "source": []
  }
 ],
 "metadata": {
  "accelerator": "GPU",
  "colab": {
   "name": "SpamCommentsModelMaker.ipynb",
   "provenance": []
  },
  "kernelspec": {
   "display_name": "Python 3 (ipykernel)",
   "language": "python",
   "name": "python3"
  },
  "language_info": {
   "codemirror_mode": {
    "name": "ipython",
    "version": 3
   },
   "file_extension": ".py",
   "mimetype": "text/x-python",
   "name": "python",
   "nbconvert_exporter": "python",
   "pygments_lexer": "ipython3",
   "version": "3.9.13"
  }
 },
 "nbformat": 4,
 "nbformat_minor": 1
}
